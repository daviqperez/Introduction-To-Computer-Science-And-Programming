{
 "cells": [
  {
   "cell_type": "markdown",
   "id": "8e16f4ef-2db1-4891-8dfb-70d56e4b3f70",
   "metadata": {},
   "source": [
    "# Introduction To Computer Science And Programming"
   ]
  },
  {
   "cell_type": "markdown",
   "id": "8637c7f8-5a6a-47dd-9bd6-544a9cdae28f",
   "metadata": {},
   "source": [
    "## PROBLEM SET 0\n",
    "\n",
    "Write a program that does the following in order: <br>\n",
    "\n",
    "* Asks the user to enter his/her date of birth. <br>\n",
    "* Asks the user to enter his/her last name.<br>\n",
    "* Prints out the user’s last name and date of birth, in that order. <br>"
   ]
  },
  {
   "cell_type": "code",
   "execution_count": 3,
   "id": "0ad4c93c-6c39-4593-872c-ce8698add85c",
   "metadata": {},
   "outputs": [
    {
     "name": "stdin",
     "output_type": "stream",
     "text": [
      "Enter your date of birth: 09/08/1994\n"
     ]
    },
    {
     "name": "stdout",
     "output_type": "stream",
     "text": [
      "09/08/1994\n"
     ]
    },
    {
     "name": "stdin",
     "output_type": "stream",
     "text": [
      "Enter your last name:  Perez\n"
     ]
    },
    {
     "name": "stdout",
     "output_type": "stream",
     "text": [
      "Perez 09/08/1994\n"
     ]
    }
   ],
   "source": [
    "birth = input('Enter your date of birth:')\n",
    "print(birth)\n",
    "last_name=input('Enter your last name: ')\n",
    "print(last_name+' ' +birth)"
   ]
  },
  {
   "cell_type": "markdown",
   "id": "6151c9eb-2bc7-4467-8271-00821d921c58",
   "metadata": {},
   "source": [
    "## PROBLEM SET 1\n",
    "\n",
    "### Part 1\n",
    "\n",
    "Write a program to calculate the credit card balance after one year if a person only pays the minimum monthly payment required by the credit card company each month.\n",
    "\n",
    "**Minimum monthly payment** = Minimum monthly payment rate x Balance (Minimum monthly payment gets split into interest paid and principal paid)  \n",
    "**Interest Paid** = Annual interest rate / 12 months x Balance  \n",
    "**Principal paid** = Minimum monthly payment – Interest paid  \n",
    "**Remaining balance** = Balance – Principal paid   "
   ]
  },
  {
   "cell_type": "code",
   "execution_count": 5,
   "id": "7908ec3e-f685-4689-8814-c3fb0667cd32",
   "metadata": {},
   "outputs": [
    {
     "name": "stdin",
     "output_type": "stream",
     "text": [
      "Enter your outstanding balance on the credit card 1000\n",
      "Enter your annual interest rate .18\n",
      "Enter your minimum monthly payment rate .02\n"
     ]
    },
    {
     "name": "stdout",
     "output_type": "stream",
     "text": [
      "Month: 1\n",
      "Minimum monthly payment: 20.0\n",
      "Principle paid: 5.0\n",
      "Remaining balance: 995.0\n",
      "Month: 2\n",
      "Minimum monthly payment: 19.9\n",
      "Principle paid: 4.98\n",
      "Remaining balance: 990.02\n",
      "Month: 3\n",
      "Minimum monthly payment: 19.8\n",
      "Principle paid: 4.95\n",
      "Remaining balance: 985.07\n",
      "Month: 4\n",
      "Minimum monthly payment: 19.7\n",
      "Principle paid: 4.92\n",
      "Remaining balance: 980.15\n",
      "Month: 5\n",
      "Minimum monthly payment: 19.6\n",
      "Principle paid: 4.9\n",
      "Remaining balance: 975.25\n",
      "Month: 6\n",
      "Minimum monthly payment: 19.5\n",
      "Principle paid: 4.87\n",
      "Remaining balance: 970.38\n",
      "Month: 7\n",
      "Minimum monthly payment: 19.41\n",
      "Principle paid: 4.85\n",
      "Remaining balance: 965.53\n",
      "Month: 8\n",
      "Minimum monthly payment: 19.31\n",
      "Principle paid: 4.83\n",
      "Remaining balance: 960.7\n",
      "Month: 9\n",
      "Minimum monthly payment: 19.21\n",
      "Principle paid: 4.8\n",
      "Remaining balance: 955.9\n",
      "Month: 10\n",
      "Minimum monthly payment: 19.12\n",
      "Principle paid: 4.78\n",
      "Remaining balance: 951.12\n",
      "Month: 11\n",
      "Minimum monthly payment: 19.02\n",
      "Principle paid: 4.75\n",
      "Remaining balance: 946.37\n",
      "Month: 12\n",
      "Minimum monthly payment: 18.93\n",
      "Principle paid: 4.73\n",
      "Remaining balance: 941.64\n",
      "RESULT \n",
      "Total amount paid: 233.5 \n",
      "Remaining balance: 941.64\n"
     ]
    }
   ],
   "source": [
    "outstanding_balance= float(input('Enter your outstanding balance on the credit card'))\n",
    "annual_rate = float(input('Enter your annual interest rate'))\n",
    "minimum_paymentrate = float(input('Enter your minimum monthly payment rate'))\n",
    "\n",
    "months = range(1,13) \n",
    "total_paid = 0\n",
    "\n",
    "for month in months:\n",
    "    # Minimum monthly payment of balance at start of the month\n",
    "    paymonth=round(outstanding_balance*minimum_paymentrate,2)\n",
    "    total_paid += paymonth\n",
    "    # Amt of monthly payment that goes to interest\n",
    "    interest=round(annual_rate/len(months)*outstanding_balance,2)\n",
    "    # Amt of principal paid off\n",
    "    principle_paid=round(paymonth-interest,2)\n",
    "    # Subtract monthly payment from outstanding balance\n",
    "    outstanding_balance=round(outstanding_balance-principle_paid,2)\n",
    "    \n",
    "    \n",
    "    print('Month:', month)\n",
    "    print('Minimum monthly payment:', paymonth)\n",
    "    print('Principle paid:', principle_paid)\n",
    "    print('Remaining balance:', outstanding_balance)\n",
    "\n",
    "print ('RESULT', \\\n",
    "       '\\nTotal amount paid:', round(total_paid,2),\\\n",
    "       '\\nRemaining balance:',outstanding_balance)"
   ]
  },
  {
   "cell_type": "markdown",
   "id": "c2c2bf88-701e-4dee-b797-eb9d13bef0e0",
   "metadata": {},
   "source": [
    "### Part 2\n",
    "\n",
    "Now write a program that calculates the minimum fixed monthly payment needed in order pay off a credit card balance within 12 months. We will not be dealing with a minimum monthly payment rate."
   ]
  },
  {
   "cell_type": "code",
   "execution_count": 51,
   "id": "734caeaf-773b-47a8-bbc9-f83848934972",
   "metadata": {},
   "outputs": [
    {
     "name": "stdin",
     "output_type": "stream",
     "text": [
      "Enter your outstanding balance on the credit card 1200\n",
      "Enter your annual interest rate .18\n"
     ]
    },
    {
     "name": "stdout",
     "output_type": "stream",
     "text": [
      "RESULT\n",
      "Monthly payment to pay off debt in 1 year: 120\n",
      "Number of months needed: 11\n",
      "Balance: -10.05\n"
     ]
    }
   ],
   "source": [
    "initialBalance = float(input('Enter your outstanding balance on the credit card'))\n",
    "interestRate = float(input('Enter your annual interest rate'))\n",
    "\n",
    "# Initialize state variables\n",
    "monthlyPayment = 0\n",
    "monthlyInterestRate = interestRate/12\n",
    "balance = initialBalance\n",
    "\n",
    "while balance > 0:\n",
    "\n",
    "    monthlyPayment += 10\n",
    "    balance = initialBalance\n",
    "    numMonths = 0\n",
    "    # Simulate passage of time until outstanding balance is paid off\n",
    "    # Each iteration represents 1 month\n",
    "    while numMonths < 12 and balance > 0:\n",
    "        # Count this as a new month     \n",
    "        numMonths += 1\n",
    "        # Interest for the month\n",
    "        interest = monthlyInterestRate * balance\n",
    "        # Subtract monthly payment from outstanding balance\n",
    "        balance -= monthlyPayment\n",
    "        # Add interest\n",
    "        balance += interest\n",
    "\n",
    "# Round final balance to 2 decimal places\n",
    "balance = round(balance,2)\n",
    "\n",
    "print (\"RESULT\")\n",
    "print (\"Monthly payment to pay off debt in 1 year:\", monthlyPayment)\n",
    "print (\"Number of months needed:\", numMonths)\n",
    "print (\"Balance:\",balance)"
   ]
  },
  {
   "cell_type": "markdown",
   "id": "2e119e8e-0c56-47f8-b4c9-7e2ad04e0f86",
   "metadata": {},
   "source": [
    "### Part 3\n",
    "\n",
    "Write a program that the bounds and bisection search to find the smallest monthly payment to the cent such that we can pay off the debt within a year. \n",
    "\n",
    "**Monthly payment lower bound** = Balance / 12.0  \n",
    "**Monthly payment upper bound** = (Balance * (1 + (Annual interest rate / 12.0)) ** 12.0) / 12.0 \n"
   ]
  },
  {
   "cell_type": "code",
   "execution_count": 3,
   "id": "6149b775-1d23-4a8d-825c-e416783bf677",
   "metadata": {},
   "outputs": [
    {
     "name": "stdin",
     "output_type": "stream",
     "text": [
      "Enter your outstanding balance on the credit card 999999 \n",
      "Enter your annual interest rate .18\n"
     ]
    },
    {
     "name": "stdout",
     "output_type": "stream",
     "text": [
      "RESULT\n",
      "Monthly payment to pay off debt in 1 year: 91679.91\n",
      "Number of months needed: 12\n",
      "Balance: -0.12\n"
     ]
    }
   ],
   "source": [
    "initialBalance = float(input('Enter your outstanding balance on the credit card'))\n",
    "interestRate = float(input('Enter your annual interest rate'))\n",
    "\n",
    "# Initialize state variables\n",
    "balance = initialBalance\n",
    "low_payment = initialBalance / 12.0\n",
    "high_payment = (initialBalance * (1 + (interestRate / 12.0)) ** 12.0) / 12.0\n",
    "\n",
    "while True:\n",
    "    monthly_payment = (low_payment + high_payment)/2\n",
    "    balance = initialBalance\n",
    "    numMonths = 0\n",
    "    \n",
    "    # Simulate passage of time until outstanding balance is paid off\n",
    "    # Each iteration represents 1 month\n",
    "    while numMonths < 12 and balance > 0:\n",
    "        # Count this as a new month     \n",
    "        numMonths += 1\n",
    "        # Interest for the month\n",
    "        interest = round(interestRate/12*balance, 2)\n",
    "        # Subtract monthly payment from outstanding balance and Add interest\n",
    "        balance += interest - monthly_payment\n",
    "        \n",
    "    if (high_payment - low_payment < 0.005):\n",
    "    # Bisection search space is small enough\n",
    "        #Recompute remaining balance and the number of months needed after Round monthly payment up to the nearest cent\n",
    "        balance = initialBalance\n",
    "        monthly_payment = round(monthly_payment + 0.004999, 2)\n",
    "        for month in range(1,13):\n",
    "            interest = round(balance*interestRate/12, 2)\n",
    "            balance += interest - monthly_payment\n",
    "            if balance <= 0:\n",
    "                break\n",
    "        break\n",
    "    elif balance < 0:\n",
    "        #Paying too much\n",
    "        high_payment = monthly_payment\n",
    "    else:\n",
    "        #Paying too little\n",
    "        low_payment = monthly_payment\n",
    "        \n",
    "print (\"RESULT\")\n",
    "print (\"Monthly payment to pay off debt in 1 year:\", monthly_payment)\n",
    "print (\"Number of months needed:\", numMonths)\n",
    "print (\"Balance:\", round(balance,2))"
   ]
  },
  {
   "cell_type": "code",
   "execution_count": null,
   "id": "c7726133-3cd4-49db-9671-3f1bf0b53a65",
   "metadata": {},
   "outputs": [],
   "source": []
  }
 ],
 "metadata": {
  "kernelspec": {
   "display_name": "Python 3 (ipykernel)",
   "language": "python",
   "name": "python3"
  },
  "language_info": {
   "codemirror_mode": {
    "name": "ipython",
    "version": 3
   },
   "file_extension": ".py",
   "mimetype": "text/x-python",
   "name": "python",
   "nbconvert_exporter": "python",
   "pygments_lexer": "ipython3",
   "version": "3.10.9"
  }
 },
 "nbformat": 4,
 "nbformat_minor": 5
}
