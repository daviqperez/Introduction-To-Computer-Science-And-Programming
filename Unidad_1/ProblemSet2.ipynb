{
 "cells": [
  {
   "cell_type": "markdown",
   "id": "3113034b-2da3-4bee-9a5e-7c055931a056",
   "metadata": {},
   "source": [
    "## PROBLEM SET 2\n",
    "\n",
    "### Part 1\n",
    "\n",
    "* Implement the evaluate_poly function. This function evaluates a polynomial function for the given x value. It takes in a tuple of numbers poly and a number x. By number, we mean that x and each element of poly is a float. evaluate_poly takes the polynomial represented by poly and computes its value at x. It returns this value as a float.  \n",
    "\n",
    "* Implement the compute_deriv function. This function computes the derivative of a polynomial function. It takes in a tuple of numbers poly and returns the derivative, which is also a polynomial represented by a tuple. \n",
    "\n",
    "* Implement the compute_root function. This function applies Newton’s method of successive approximation as described above to find a root of the polynomial function. It takes in a tuple of numbers poly, an initial guess x_0, and an error bound epsilon. It returns a tuple. The first element is the root of the polynomial represented by poly; the second element is the number of iterations it took to get to that root. \n"
   ]
  },
  {
   "cell_type": "code",
   "execution_count": 196,
   "id": "b2d8911f-1e1e-487c-b84d-687c33801d00",
   "metadata": {},
   "outputs": [],
   "source": [
    "def evaluate_poly(poly, x):\n",
    "    \"\"\"\n",
    "    Computes the polynomial function for a given value x. Returns that value.\n",
    "\n",
    "    Example:\n",
    "    >>> poly = (0.0, 0.0, 5.0, 9.3, 7.0)    # f(x) = 7x^4 + 9.3x^3 + 5x^2\n",
    "    >>> x = -13\n",
    "    >>> print evaluate_poly(poly, x)  # f(-13) = 7(-13)^4 + 9.3(-13)^3 + 5(-13)^2\n",
    "    180339.9\n",
    "\n",
    "    poly: tuple of numbers, length > 0\n",
    "    x: number\n",
    "    returns: float\n",
    "    \"\"\"\n",
    "    sum = 0 \n",
    "    for value in poly:\n",
    "        sum += value*(x)**poly.index(value)\n",
    "    return sum           \n",
    "\n",
    "def compute_deriv(poly):\n",
    "    \"\"\"\n",
    "    Computes and returns the derivative of a polynomial function. If the\n",
    "    derivative is 0, returns (0.0,).\n",
    "\n",
    "    Example:\n",
    "    >>> poly = (-13.39, 0.0, 17.5, 3.0, 1.0)    # x^4 + 3x^3 + 17.5x^2 - 13.39\n",
    "    >>> print compute_deriv(poly)        # 4x^3 + 9x^2 + 35^x\n",
    "    (0.0, 35.0, 9.0, 4.0)\n",
    "\n",
    "    poly: tuple of numbers, length > 0\n",
    "    returns: tuple of numbers\n",
    "    \"\"\"\n",
    "    derivate = []\n",
    "    for value in poly:\n",
    "        if poly.index(value) == 0:\n",
    "            continue\n",
    "        else:\n",
    "            derivate.append(value*(poly.index(value)))\n",
    "    return tuple(derivate)\n",
    "\n",
    "def compute_root(poly, x_0, epsilon):\n",
    "    \"\"\"\n",
    "    Uses Newton's method to find and return a root of a polynomial function.\n",
    "    Returns a tuple containing the root and the number of iterations required\n",
    "    to get to the root.\n",
    "\n",
    "    Example:\n",
    "    >>> poly = (-13.39, 0.0, 17.5, 3.0, 1.0)    #x^4 + 3x^3 + 17.5x^2 - 13.39\n",
    "    >>> x_0 = 0.1\n",
    "    >>> epsilon = .0001\n",
    "    >>> print compute_root(poly, x_0, epsilon)\n",
    "    (0.80679075379635201, 8.0)\n",
    "\n",
    "    poly: tuple of numbers, length > 1.\n",
    "         Represents a polynomial function containing at least one real root.\n",
    "         The derivative of this polynomial function at x_0 is not 0.\n",
    "    x_0: float\n",
    "    epsilon: float > 0\n",
    "    returns: tuple (float, int)\n",
    "    \"\"\"\n",
    "    x_1=x_0\n",
    "    iterations = 1\n",
    "    while True:\n",
    "    #evaluate the function at first guess\n",
    "        root = evaluate_poly(poly, x_1)\n",
    "        #print('the value of the root is', root)\n",
    "        #calculte the n guess\n",
    "        x_1=x_1-evaluate_poly(poly, x_1)/evaluate_poly(compute_deriv(poly), x_1)\n",
    "        #print('the value of the guess is', x_1)\n",
    "        if abs(root) < epsilon:\n",
    "            # root value is close to 0 enough\n",
    "            break\n",
    "        iterations +=1\n",
    "    return x_1, iterations"
   ]
  },
  {
   "cell_type": "code",
   "execution_count": 197,
   "id": "624e9ed6-2bb6-4fa9-9905-645502d2eb70",
   "metadata": {},
   "outputs": [
    {
     "data": {
      "text/plain": [
       "180339.9"
      ]
     },
     "execution_count": 197,
     "metadata": {},
     "output_type": "execute_result"
    }
   ],
   "source": [
    "poly = (0.0, 0.0, 5.0, 9.3, 7.0) \n",
    "x =  -13\n",
    "evaluate_poly(poly,x)"
   ]
  },
  {
   "cell_type": "code",
   "execution_count": 198,
   "id": "108ece9c-6094-4dab-9f51-8fad2919c5e2",
   "metadata": {},
   "outputs": [
    {
     "data": {
      "text/plain": [
       "(0.0, 35.0, 9.0, 4.0)"
      ]
     },
     "execution_count": 198,
     "metadata": {},
     "output_type": "execute_result"
    }
   ],
   "source": [
    "poly = (-13.39, 0.0, 17.5, 3.0, 1.0)\n",
    "compute_deriv(poly)"
   ]
  },
  {
   "cell_type": "code",
   "execution_count": 199,
   "id": "336754bb-b75f-4a5c-b1d0-fdb4afeeb99c",
   "metadata": {},
   "outputs": [
    {
     "data": {
      "text/plain": [
       "(0.8067885060972542, 8)"
      ]
     },
     "execution_count": 199,
     "metadata": {},
     "output_type": "execute_result"
    }
   ],
   "source": [
    "poly = (-13.39, 0.0, 17.5, 3.0, 1.0)   \n",
    "x_0 = 0.1\n",
    "epsilon = .0001\n",
    "compute_root(poly, x_0, epsilon)"
   ]
  },
  {
   "cell_type": "markdown",
   "id": "eb739d31-09ed-4ec0-8ab9-4810787e294f",
   "metadata": {},
   "source": [
    "### Part 2\n",
    "\n",
    "Implement a function, hangman(), that will start up and carry out an interactive Hangman game between a player and the computer. \n",
    "\n",
    "1. The computer must select a word at random from the list of available words that was provided in words.txt. The functions for loading the word list and selecting a random word have already been provided for you in ps2_hangman.py.\n",
    "2. The game must be interactive: it should let a player know how many letters the word the computer has picked contains and ask the user to supply guesses. The user should receive feedback immediately after each guess. You should also display to the user the partially guessed word so far, as well as either the letters that the player has already guessed or letters that the player has yet to guess.\n",
    "3. A player is allowed some number of guesses. Once you understand how the game works, pick a number that seems reasonable to you. Make sure to remind the player of how many guesses s/he has left after each turn.\n",
    "4. A player loses a guess only when s/he guesses incorrectly.\n",
    "5. The game should end when the player constructs the full word or runs out of guesses. If the player runs out of guesses (s/he “loses”), reveal the word to the player when the game ends. \n"
   ]
  },
  {
   "cell_type": "code",
   "execution_count": 1,
   "id": "9e75a72b-6ea1-4120-a263-053ef1850680",
   "metadata": {},
   "outputs": [
    {
     "name": "stdout",
     "output_type": "stream",
     "text": [
      "Loading word list from file...\n",
      "   55900 words loaded.\n"
     ]
    }
   ],
   "source": [
    "import random\n",
    "import string\n",
    "\n",
    "WORDLIST_FILENAME = \"words_2.txt\"\n",
    "\n",
    "def load_words():\n",
    "    \"\"\"\n",
    "    Returns a list of valid words. Words are strings of lowercase letters.\n",
    "    \n",
    "    Depending on the size of the word list, this function may\n",
    "    take a while to finish.\n",
    "    \"\"\"\n",
    "    print (\"Loading word list from file...\")\n",
    "    # inFile: file\n",
    "    inFile = open(WORDLIST_FILENAME, 'r')\n",
    "    # line: string\n",
    "    line = inFile.readline()\n",
    "    # wordlist: list of strings\n",
    "    wordlist = str.split(line)\n",
    "    print (\"  \", len(wordlist), \"words loaded.\")\n",
    "    return wordlist\n",
    "\n",
    "def choose_word(wordlist):\n",
    "    \"\"\"\n",
    "    wordlist (list): list of words (strings)\n",
    "\n",
    "    Returns a word from wordlist at random\n",
    "    \"\"\"\n",
    "    return random.choice(wordlist)\n",
    "\n",
    "# end of helper code\n",
    "# -----------------------------------\n",
    "\n",
    "# actually load the dictionary of words and point to it with \n",
    "# the wordlist variable so that it can be accessed from anywhere\n",
    "# in the program\n",
    "wordlist = load_words()"
   ]
  },
  {
   "cell_type": "code",
   "execution_count": 2,
   "id": "75759dba-b295-49b5-985a-561d3e8da986",
   "metadata": {},
   "outputs": [],
   "source": [
    "def partial_word(word, guessed_letters):\n",
    "    \"\"\"\n",
    "    Return the secret_word in user-visible format, with underscores used\n",
    "    to replace characters that have not yet been guessed.\n",
    "    \"\"\"\n",
    "    result = ''\n",
    "    for letter in word:\n",
    "        if letter in guessed_letters:\n",
    "            result += letter\n",
    "        else:\n",
    "            result += '_'\n",
    "    return result\n",
    "      \n",
    "def hangman():\n",
    "    print ('Welcome to the game, Hangman!')\n",
    "    word = choose_word(wordlist).lower()\n",
    "    print ('I am thinking of a word that is', len(word), ' letters long.')\n",
    "     \n",
    "    guessed_letters = ''\n",
    "    attempt = 8\n",
    "    letters = 'abcdefghijklmnopqrstuvwxyz'\n",
    "    while attempt > 0:\n",
    "        print('-------------')\n",
    "        print('You have', attempt, 'guesses left')\n",
    "\n",
    "        print ('Available letters:', letters)\n",
    "        guess = input('Please guess a letter:')\n",
    "        if guess in word:\n",
    "            guessed_letters += guess\n",
    "            letters = letters.replace(guess, '')\n",
    "            print ('Good guess:', partial_word(word, guessed_letters)) \n",
    "        else: \n",
    "            print('Oops! That letter is not in my word:', partial_word(word, guessed_letters))\n",
    "            attempt -= 1\n",
    "            letters = letters.replace(guess, '')\n",
    "        if word == partial_word(word, guessed_letters):\n",
    "            print ('Congratulations, you won!')\n",
    "            break\n",
    "    print ('Game over, the word was', word)\n"
   ]
  },
  {
   "cell_type": "code",
   "execution_count": 3,
   "id": "1549a40b-48f0-4873-8c61-4f727bf1856a",
   "metadata": {},
   "outputs": [
    {
     "name": "stdout",
     "output_type": "stream",
     "text": [
      "Welcome to the game, Hangman!\n",
      "I am thinking of a word that is 10  letters long.\n",
      "-------------\n",
      "You have 8 guesses left\n",
      "Available letters: abcdefghijklmnopqrstuvwxyz\n"
     ]
    },
    {
     "name": "stdin",
     "output_type": "stream",
     "text": [
      "Please guess a letter: a\n"
     ]
    },
    {
     "name": "stdout",
     "output_type": "stream",
     "text": [
      "Good guess: ____a_____\n",
      "-------------\n",
      "You have 8 guesses left\n",
      "Available letters: bcdefghijklmnopqrstuvwxyz\n"
     ]
    },
    {
     "name": "stdin",
     "output_type": "stream",
     "text": [
      "Please guess a letter: a\n"
     ]
    },
    {
     "name": "stdout",
     "output_type": "stream",
     "text": [
      "Good guess: ____a_____\n",
      "-------------\n",
      "You have 8 guesses left\n",
      "Available letters: bcdefghijklmnopqrstuvwxyz\n"
     ]
    },
    {
     "name": "stdin",
     "output_type": "stream",
     "text": [
      "Please guess a letter: a\n"
     ]
    },
    {
     "name": "stdout",
     "output_type": "stream",
     "text": [
      "Good guess: ____a_____\n",
      "-------------\n",
      "You have 8 guesses left\n",
      "Available letters: bcdefghijklmnopqrstuvwxyz\n"
     ]
    },
    {
     "name": "stdin",
     "output_type": "stream",
     "text": [
      "Please guess a letter: a\n"
     ]
    },
    {
     "name": "stdout",
     "output_type": "stream",
     "text": [
      "Good guess: ____a_____\n",
      "-------------\n",
      "You have 8 guesses left\n",
      "Available letters: bcdefghijklmnopqrstuvwxyz\n"
     ]
    },
    {
     "name": "stdin",
     "output_type": "stream",
     "text": [
      "Please guess a letter: a\n"
     ]
    },
    {
     "name": "stdout",
     "output_type": "stream",
     "text": [
      "Good guess: ____a_____\n",
      "-------------\n",
      "You have 8 guesses left\n",
      "Available letters: bcdefghijklmnopqrstuvwxyz\n"
     ]
    },
    {
     "name": "stdin",
     "output_type": "stream",
     "text": [
      "Please guess a letter: a\n"
     ]
    },
    {
     "name": "stdout",
     "output_type": "stream",
     "text": [
      "Good guess: ____a_____\n",
      "-------------\n",
      "You have 8 guesses left\n",
      "Available letters: bcdefghijklmnopqrstuvwxyz\n"
     ]
    },
    {
     "name": "stdin",
     "output_type": "stream",
     "text": [
      "Please guess a letter: a\n"
     ]
    },
    {
     "name": "stdout",
     "output_type": "stream",
     "text": [
      "Good guess: ____a_____\n",
      "-------------\n",
      "You have 8 guesses left\n",
      "Available letters: bcdefghijklmnopqrstuvwxyz\n"
     ]
    },
    {
     "name": "stdin",
     "output_type": "stream",
     "text": [
      "Please guess a letter: a\n"
     ]
    },
    {
     "name": "stdout",
     "output_type": "stream",
     "text": [
      "Good guess: ____a_____\n",
      "-------------\n",
      "You have 8 guesses left\n",
      "Available letters: bcdefghijklmnopqrstuvwxyz\n"
     ]
    },
    {
     "name": "stdin",
     "output_type": "stream",
     "text": [
      "Please guess a letter: a\n"
     ]
    },
    {
     "name": "stdout",
     "output_type": "stream",
     "text": [
      "Good guess: ____a_____\n",
      "-------------\n",
      "You have 8 guesses left\n",
      "Available letters: bcdefghijklmnopqrstuvwxyz\n"
     ]
    },
    {
     "name": "stdin",
     "output_type": "stream",
     "text": [
      "Please guess a letter: a\n"
     ]
    },
    {
     "name": "stdout",
     "output_type": "stream",
     "text": [
      "Good guess: ____a_____\n",
      "-------------\n",
      "You have 8 guesses left\n",
      "Available letters: bcdefghijklmnopqrstuvwxyz\n"
     ]
    },
    {
     "name": "stdin",
     "output_type": "stream",
     "text": [
      "Please guess a letter: a\n"
     ]
    },
    {
     "name": "stdout",
     "output_type": "stream",
     "text": [
      "Good guess: ____a_____\n",
      "-------------\n",
      "You have 8 guesses left\n",
      "Available letters: bcdefghijklmnopqrstuvwxyz\n"
     ]
    },
    {
     "name": "stdin",
     "output_type": "stream",
     "text": [
      "Please guess a letter: a\n"
     ]
    },
    {
     "name": "stdout",
     "output_type": "stream",
     "text": [
      "Good guess: ____a_____\n",
      "-------------\n",
      "You have 8 guesses left\n",
      "Available letters: bcdefghijklmnopqrstuvwxyz\n"
     ]
    },
    {
     "name": "stdin",
     "output_type": "stream",
     "text": [
      "Please guess a letter: b\n"
     ]
    },
    {
     "name": "stdout",
     "output_type": "stream",
     "text": [
      "Oops! That letter is not in my word: ____a_____\n",
      "-------------\n",
      "You have 7 guesses left\n",
      "Available letters: cdefghijklmnopqrstuvwxyz\n"
     ]
    },
    {
     "name": "stdin",
     "output_type": "stream",
     "text": [
      "Please guess a letter: b\n"
     ]
    },
    {
     "name": "stdout",
     "output_type": "stream",
     "text": [
      "Oops! That letter is not in my word: ____a_____\n",
      "-------------\n",
      "You have 6 guesses left\n",
      "Available letters: cdefghijklmnopqrstuvwxyz\n"
     ]
    },
    {
     "name": "stdin",
     "output_type": "stream",
     "text": [
      "Please guess a letter: b\n"
     ]
    },
    {
     "name": "stdout",
     "output_type": "stream",
     "text": [
      "Oops! That letter is not in my word: ____a_____\n",
      "-------------\n",
      "You have 5 guesses left\n",
      "Available letters: cdefghijklmnopqrstuvwxyz\n"
     ]
    },
    {
     "name": "stdin",
     "output_type": "stream",
     "text": [
      "Please guess a letter: c\n"
     ]
    },
    {
     "name": "stdout",
     "output_type": "stream",
     "text": [
      "Oops! That letter is not in my word: ____a_____\n",
      "-------------\n",
      "You have 4 guesses left\n",
      "Available letters: defghijklmnopqrstuvwxyz\n"
     ]
    },
    {
     "name": "stdin",
     "output_type": "stream",
     "text": [
      "Please guess a letter: e\n"
     ]
    },
    {
     "name": "stdout",
     "output_type": "stream",
     "text": [
      "Good guess: _e__a_e___\n",
      "-------------\n",
      "You have 4 guesses left\n",
      "Available letters: dfghijklmnopqrstuvwxyz\n"
     ]
    },
    {
     "name": "stdin",
     "output_type": "stream",
     "text": [
      "Please guess a letter: d\n"
     ]
    },
    {
     "name": "stdout",
     "output_type": "stream",
     "text": [
      "Good guess: de__aded__\n",
      "-------------\n",
      "You have 4 guesses left\n",
      "Available letters: fghijklmnopqrstuvwxyz\n"
     ]
    },
    {
     "name": "stdin",
     "output_type": "stream",
     "text": [
      "Please guess a letter: f\n"
     ]
    },
    {
     "name": "stdout",
     "output_type": "stream",
     "text": [
      "Oops! That letter is not in my word: de__aded__\n",
      "-------------\n",
      "You have 3 guesses left\n",
      "Available letters: ghijklmnopqrstuvwxyz\n"
     ]
    },
    {
     "name": "stdin",
     "output_type": "stream",
     "text": [
      "Please guess a letter: i\n"
     ]
    },
    {
     "name": "stdout",
     "output_type": "stream",
     "text": [
      "Oops! That letter is not in my word: de__aded__\n",
      "-------------\n",
      "You have 2 guesses left\n",
      "Available letters: ghjklmnopqrstuvwxyz\n"
     ]
    },
    {
     "name": "stdin",
     "output_type": "stream",
     "text": [
      "Please guess a letter: j\n"
     ]
    },
    {
     "name": "stdout",
     "output_type": "stream",
     "text": [
      "Oops! That letter is not in my word: de__aded__\n",
      "-------------\n",
      "You have 1 guesses left\n",
      "Available letters: ghklmnopqrstuvwxyz\n"
     ]
    },
    {
     "name": "stdin",
     "output_type": "stream",
     "text": [
      "Please guess a letter: k\n"
     ]
    },
    {
     "name": "stdout",
     "output_type": "stream",
     "text": [
      "Oops! That letter is not in my word: de__aded__\n",
      "Game over, the word was degradedly\n"
     ]
    }
   ],
   "source": [
    "hangman()"
   ]
  },
  {
   "cell_type": "code",
   "execution_count": null,
   "id": "f29f067d-9f32-4034-9aab-ca782f3b2acf",
   "metadata": {},
   "outputs": [],
   "source": []
  }
 ],
 "metadata": {
  "kernelspec": {
   "display_name": "Python 3 (ipykernel)",
   "language": "python",
   "name": "python3"
  },
  "language_info": {
   "codemirror_mode": {
    "name": "ipython",
    "version": 3
   },
   "file_extension": ".py",
   "mimetype": "text/x-python",
   "name": "python",
   "nbconvert_exporter": "python",
   "pygments_lexer": "ipython3",
   "version": "3.10.9"
  }
 },
 "nbformat": 4,
 "nbformat_minor": 5
}
